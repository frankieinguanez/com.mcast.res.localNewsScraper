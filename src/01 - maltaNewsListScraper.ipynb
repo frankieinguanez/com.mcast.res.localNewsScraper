{
 "cells": [
  {
   "cell_type": "code",
   "execution_count": 1,
   "metadata": {},
   "outputs": [],
   "source": [
    "# Save response\n",
    "def save(fileName: str, response: str):\n",
    "    # Open file and write file\n",
    "    with open(fileName, \"w\", encoding=\"utf-8\") as pf:\n",
    "        pf.write(\"{}\\n\".format(response))"
   ]
  },
  {
   "cell_type": "code",
   "execution_count": 2,
   "metadata": {},
   "outputs": [],
   "source": [
    "# Scraping the list of news articles\n",
    "def scrapeNews(page: int, source: str, url: str, dataFolder: str, errorFolder: str):\n",
    "    import os\n",
    "    import time\n",
    "    import random\n",
    "    import requests\n",
    "    from bs4 import BeautifulSoup\n",
    "\n",
    "    # Create header to bypass Mod_Security\n",
    "    headers = {\n",
    "        'User-Agent': 'Mozilla/5.0 (Macintosh; Intel Mac OS X 10.12; rv:55.0) Gecko/20100101 Firefox/55.0',\n",
    "    }\n",
    "\n",
    "    # Wait for a few milliseconds so not to be blocked\n",
    "    time.sleep(random.randint(0, 10)/10)\n",
    "\n",
    "    # Get list of news\n",
    "    response = requests.get(url.format(page), headers=headers)\n",
    "\n",
    "    # Verify that response is what was expected\n",
    "    if (response.status_code!=200):\n",
    "        save(\"{}_{:04d}.html\".format(os.path.join(errorFolder, source), page), response.text)\n",
    "        raise ValueError(\"Unexcepcted response code. News page: {:04d}\\n Response Code: {:0d}\"\\\n",
    "            .format(page, response.status_code))\n",
    "    \n",
    "    save(\"{}_{:04d}.html\".format(os.path.join(dataFolder, source), page), response.text)"
   ]
  },
  {
   "cell_type": "code",
   "execution_count": 3,
   "metadata": {},
   "outputs": [],
   "source": [
    "import os\n",
    "import sys\n",
    "import traceback"
   ]
  },
  {
   "cell_type": "code",
   "execution_count": 4,
   "metadata": {},
   "outputs": [],
   "source": [
    "dataFolder = \"lists\"\n",
    "errorFolder = \"error\"\n",
    "sources = {'ToM': 'https://timesofmalta.com/articles/tags/national/page:{:d}', 'MT': 'https://www.maltatoday.com.mt/news/national/{:d}/'}\n",
    "pages = {'ToM': 3, 'MT': 3}"
   ]
  },
  {
   "cell_type": "code",
   "execution_count": 5,
   "metadata": {},
   "outputs": [],
   "source": [
    "for source in sources:\n",
    "    for page in range(1,pages[source]):     \n",
    "        try:\n",
    "            scrapeNews(page, source, sources[source], dataFolder, errorFolder)\n",
    "        except:\n",
    "            traceback.print_exception(*sys.exc_info(), file=open(\"{}_{:04d}.txt\".format(os.path.join(errorFolder, source), page), \"w\", encoding=\"utf-8\"))"
   ]
  }
 ],
 "metadata": {
  "kernelspec": {
   "display_name": "sudoku",
   "language": "python",
   "name": "python3"
  },
  "language_info": {
   "codemirror_mode": {
    "name": "ipython",
    "version": 3
   },
   "file_extension": ".py",
   "mimetype": "text/x-python",
   "name": "python",
   "nbconvert_exporter": "python",
   "pygments_lexer": "ipython3",
   "version": "3.10.8"
  },
  "orig_nbformat": 4
 },
 "nbformat": 4,
 "nbformat_minor": 2
}
