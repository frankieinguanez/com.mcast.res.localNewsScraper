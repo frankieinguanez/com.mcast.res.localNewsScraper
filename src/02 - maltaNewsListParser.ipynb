{
 "cells": [
  {
   "cell_type": "code",
   "execution_count": null,
   "metadata": {},
   "outputs": [],
   "source": [
    "# Package declaration"
   ]
  },
  {
   "cell_type": "code",
   "execution_count": null,
   "metadata": {},
   "outputs": [],
   "source": [
    "# Variable declaration"
   ]
  },
  {
   "cell_type": "code",
   "execution_count": null,
   "metadata": {},
   "outputs": [],
   "source": [
    "# Loop through each file in data folder\n",
    "\n",
    "# Figure out source\n",
    "\n",
    "# Parse source accordingly and extract URL for news article\n",
    "\n",
    "# Store all URLs in a list\n",
    "\n",
    "# Save list"
   ]
  }
 ],
 "metadata": {
  "language_info": {
   "name": "python"
  },
  "orig_nbformat": 4
 },
 "nbformat": 4,
 "nbformat_minor": 2
}
